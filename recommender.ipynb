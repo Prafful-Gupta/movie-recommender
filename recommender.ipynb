{
 "cells": [
  {
   "cell_type": "code",
   "execution_count": 1,
   "metadata": {
    "collapsed": false
   },
   "outputs": [],
   "source": [
    "import matplotlib as plt\n",
    "import numpy as np\n",
    "import pandas as pd"
   ]
  },
  {
   "cell_type": "code",
   "execution_count": 2,
   "metadata": {
    "collapsed": true
   },
   "outputs": [],
   "source": [
    "DATASET_DIR = 'ml-latest-small/'\n",
    "\n",
    "movies_df = pd.read_csv(DATASET_DIR + 'movies.csv')\n",
    "ratings_df = pd.read_csv(DATASET_DIR + 'ratings.csv')\n",
    "links_df = pd.read_csv(DATASET_DIR + 'links.csv')\n",
    "tags_df = pd.read_csv(DATASET_DIR + 'tags.csv')"
   ]
  },
  {
   "cell_type": "code",
   "execution_count": 3,
   "metadata": {
    "collapsed": false
   },
   "outputs": [
    {
     "name": "stdout",
     "output_type": "stream",
     "text": [
      "links:   Index(['imdbId', 'movieId', 'tmdbId'], dtype='object')\n",
      "movies:  Index(['genres', 'movieId', 'title'], dtype='object')\n",
      "ratings: Index(['movieId', 'rating', 'timestamp', 'userId'], dtype='object')\n",
      "tags:\t Index(['movieId', 'tag', 'timestamp', 'userId'], dtype='object')\n"
     ]
    }
   ],
   "source": [
    "# Analysing the columns for commonalities\n",
    "\n",
    "print('links:  ', links_df.columns.sort_values())\n",
    "print('movies: ', movies_df.columns.sort_values())\n",
    "print('ratings:', ratings_df.columns.sort_values())\n",
    "print('tags:\\t', tags_df.columns.sort_values())"
   ]
  },
  {
   "cell_type": "code",
   "execution_count": 4,
   "metadata": {
    "collapsed": false
   },
   "outputs": [],
   "source": [
    "# Merged df of movies and ratings, grouped by movieId\n",
    "\n",
    "grouped_movies = movies_df.merge(ratings_df, on='movieId', how='inner').groupby('movieId')"
   ]
  },
  {
   "cell_type": "code",
   "execution_count": 5,
   "metadata": {
    "collapsed": true
   },
   "outputs": [],
   "source": [
    "# Returns (movieId, title) based on the search query if found, else None\n",
    "\n",
    "def get_movie_id_and_name(query):\n",
    "    query = query.lower()\n",
    "    for i,title in enumerate(movies_df['title']):\n",
    "        if title.lower().startswith(query):\n",
    "            return (movies_df['movieId'][i], title)"
   ]
  },
  {
   "cell_type": "code",
   "execution_count": 6,
   "metadata": {
    "collapsed": false
   },
   "outputs": [
    {
     "name": "stdout",
     "output_type": "stream",
     "text": [
      "(81591, 'Black Swan (2010)')\n"
     ]
    }
   ],
   "source": [
    "# Fetching 'black swan' based on search query\n",
    "\n",
    "black_swan = get_movie_id_and_name('black swan')\n",
    "print(black_swan)"
   ]
  },
  {
   "cell_type": "code",
   "execution_count": 7,
   "metadata": {
    "collapsed": true
   },
   "outputs": [
    {
     "name": "stdout",
     "output_type": "stream",
     "text": [
      "       movieId              title          genres  userId  rating   timestamp\n",
      "95220    81591  Black Swan (2010)  Drama|Thriller      15     1.0  1338698369\n",
      "95221    81591  Black Swan (2010)  Drama|Thriller      48     4.0  1367475412\n",
      "95222    81591  Black Swan (2010)  Drama|Thriller      56     5.0  1467003145\n",
      "95223    81591  Black Swan (2010)  Drama|Thriller      62     4.0  1451713153\n",
      "95224    81591  Black Swan (2010)  Drama|Thriller      72     3.5  1461784449\n"
     ]
    },
    {
     "data": {
      "text/plain": [
       "count    34.000000\n",
       "mean      3.779412\n",
       "std       0.962881\n",
       "min       1.000000\n",
       "25%       3.500000\n",
       "50%       4.000000\n",
       "75%       4.000000\n",
       "max       5.000000\n",
       "Name: rating, dtype: float64"
      ]
     },
     "execution_count": 7,
     "metadata": {},
     "output_type": "execute_result"
    }
   ],
   "source": [
    "# Ratings for 'black swan'\n",
    "\n",
    "black_swan_ratings = grouped_movies.get_group(black_swan[0])\n",
    "print(black_swan_ratings.head())\n",
    "black_swan_ratings = black_swan_ratings['rating']\n",
    "black_swan_ratings.describe()"
   ]
  },
  {
   "cell_type": "code",
   "execution_count": 8,
   "metadata": {
    "collapsed": false
   },
   "outputs": [
    {
     "data": {
      "text/plain": [
       "3.7794117647058822"
      ]
     },
     "execution_count": 8,
     "metadata": {},
     "output_type": "execute_result"
    }
   ],
   "source": [
    "# Returns ratings dataframe for a movie name query\n",
    "\n",
    "def get_ratings_for(movie_query):\n",
    "    movie = get_movie_id_and_name(movie_query)\n",
    "    return grouped_movies.get_group(movie[0]) if movie else None\n",
    "\n",
    "get_ratings_for('black swan')['rating'].mean()"
   ]
  },
  {
   "cell_type": "code",
   "execution_count": 9,
   "metadata": {
    "collapsed": false
   },
   "outputs": [
    {
     "data": {
      "text/html": [
       "<div>\n",
       "<table border=\"1\" class=\"dataframe\">\n",
       "  <thead>\n",
       "    <tr style=\"text-align: right;\">\n",
       "      <th></th>\n",
       "      <th>index</th>\n",
       "      <th>movieId</th>\n",
       "      <th>title</th>\n",
       "      <th>genres</th>\n",
       "    </tr>\n",
       "  </thead>\n",
       "  <tbody>\n",
       "    <tr>\n",
       "      <th>0</th>\n",
       "      <td>2798</td>\n",
       "      <td>3504</td>\n",
       "      <td>Network (1976)</td>\n",
       "      <td>Comedy|Drama</td>\n",
       "    </tr>\n",
       "    <tr>\n",
       "      <th>1</th>\n",
       "      <td>7618</td>\n",
       "      <td>80463</td>\n",
       "      <td>Social Network, The (2010)</td>\n",
       "      <td>Drama</td>\n",
       "    </tr>\n",
       "  </tbody>\n",
       "</table>\n",
       "</div>"
      ],
      "text/plain": [
       "   index  movieId                       title        genres\n",
       "0   2798     3504              Network (1976)  Comedy|Drama\n",
       "1   7618    80463  Social Network, The (2010)         Drama"
      ]
     },
     "execution_count": 9,
     "metadata": {},
     "output_type": "execute_result"
    }
   ],
   "source": [
    "# Apparently, there are built-in functionalities that could help with searching.\n",
    "\n",
    "def search_movies(query):\n",
    "    query = query.lower()\n",
    "    lowered_movie_titles = movies_df.copy()\n",
    "    lowered_movie_titles.title = lowered_movie_titles.title.str.lower()\n",
    "    contains = movies_df[lowered_movie_titles.title.str.contains(query)]\n",
    "    startswith = movies_df[lowered_movie_titles.title.str.startswith(query)]\n",
    "    return pd.concat([startswith, contains]).drop_duplicates().reset_index()\n",
    "\n",
    "search_movies('network')"
   ]
  },
  {
   "cell_type": "code",
   "execution_count": 10,
   "metadata": {
    "collapsed": false
   },
   "outputs": [],
   "source": [
    "# Returns sorted search results based on each result's mean_rating value (Descending Order)\n",
    "\n",
    "def ratings_sorted_search_results(search_result):\n",
    "    mean_ratings = []\n",
    "    movie_indices = []\n",
    "    for i in search_result.index:\n",
    "        movie_index = search_result['index'][i] # 'index' of movie as in movies_df\n",
    "        mean_rating = grouped_movies.get_group(search_result['movieId'][i])['rating'].mean()\n",
    "        # Appending to respective list\n",
    "        mean_ratings.append(mean_rating)\n",
    "        movie_indices.append(movie_index)\n",
    "        \n",
    "    # Dataframe with mean_rating and movie_indices\n",
    "    mean_ratings_df = pd.DataFrame({'index': movie_indices, 'mean_rating': mean_ratings})\n",
    "    \n",
    "    # Merged df\n",
    "    merged_df = search_result.merge(mean_ratings_df, on='index')\n",
    "    \n",
    "    # Sort in descending order by mean_rating\n",
    "    sorted_merged_df = merged_df.sort_values(by='mean_rating', ascending=False).reset_index(drop=True)\n",
    "    \n",
    "    return sorted_merged_df"
   ]
  },
  {
   "cell_type": "code",
   "execution_count": 11,
   "metadata": {
    "collapsed": false
   },
   "outputs": [
    {
     "data": {
      "text/html": [
       "<div>\n",
       "<table border=\"1\" class=\"dataframe\">\n",
       "  <thead>\n",
       "    <tr style=\"text-align: right;\">\n",
       "      <th></th>\n",
       "      <th>index</th>\n",
       "      <th>movieId</th>\n",
       "      <th>title</th>\n",
       "      <th>genres</th>\n",
       "      <th>mean_rating</th>\n",
       "    </tr>\n",
       "  </thead>\n",
       "  <tbody>\n",
       "    <tr>\n",
       "      <th>0</th>\n",
       "      <td>6880</td>\n",
       "      <td>57528</td>\n",
       "      <td>Rambo (Rambo 4) (2008)</td>\n",
       "      <td>Action|Drama|Thriller|War</td>\n",
       "      <td>3.583333</td>\n",
       "    </tr>\n",
       "    <tr>\n",
       "      <th>1</th>\n",
       "      <td>6938</td>\n",
       "      <td>59141</td>\n",
       "      <td>Son of Rambow (2007)</td>\n",
       "      <td>Children|Comedy|Drama</td>\n",
       "      <td>3.500000</td>\n",
       "    </tr>\n",
       "    <tr>\n",
       "      <th>2</th>\n",
       "      <td>1913</td>\n",
       "      <td>2403</td>\n",
       "      <td>First Blood (Rambo: First Blood) (1982)</td>\n",
       "      <td>Action|Adventure|Drama|Thriller</td>\n",
       "      <td>3.472222</td>\n",
       "    </tr>\n",
       "    <tr>\n",
       "      <th>3</th>\n",
       "      <td>1912</td>\n",
       "      <td>2402</td>\n",
       "      <td>Rambo: First Blood Part II (1985)</td>\n",
       "      <td>Action|Adventure|Thriller</td>\n",
       "      <td>2.535714</td>\n",
       "    </tr>\n",
       "    <tr>\n",
       "      <th>4</th>\n",
       "      <td>1914</td>\n",
       "      <td>2404</td>\n",
       "      <td>Rambo III (1988)</td>\n",
       "      <td>Action|Adventure|Thriller|War</td>\n",
       "      <td>2.230769</td>\n",
       "    </tr>\n",
       "  </tbody>\n",
       "</table>\n",
       "</div>"
      ],
      "text/plain": [
       "   index  movieId                                    title  \\\n",
       "0   6880    57528                   Rambo (Rambo 4) (2008)   \n",
       "1   6938    59141                     Son of Rambow (2007)   \n",
       "2   1913     2403  First Blood (Rambo: First Blood) (1982)   \n",
       "3   1912     2402        Rambo: First Blood Part II (1985)   \n",
       "4   1914     2404                         Rambo III (1988)   \n",
       "\n",
       "                            genres  mean_rating  \n",
       "0        Action|Drama|Thriller|War     3.583333  \n",
       "1            Children|Comedy|Drama     3.500000  \n",
       "2  Action|Adventure|Drama|Thriller     3.472222  \n",
       "3        Action|Adventure|Thriller     2.535714  \n",
       "4    Action|Adventure|Thriller|War     2.230769  "
      ]
     },
     "execution_count": 11,
     "metadata": {},
     "output_type": "execute_result"
    }
   ],
   "source": [
    "rambo_movies = search_movies('rambo')\n",
    "ratings_sorted_search_results(rambo_movies)"
   ]
  },
  {
   "cell_type": "code",
   "execution_count": null,
   "metadata": {
    "collapsed": true
   },
   "outputs": [],
   "source": []
  }
 ],
 "metadata": {
  "kernelspec": {
   "display_name": "Python 3",
   "language": "python",
   "name": "python3"
  },
  "language_info": {
   "codemirror_mode": {
    "name": "ipython",
    "version": 3
   },
   "file_extension": ".py",
   "mimetype": "text/x-python",
   "name": "python",
   "nbconvert_exporter": "python",
   "pygments_lexer": "ipython3",
   "version": "3.4.3"
  }
 },
 "nbformat": 4,
 "nbformat_minor": 2
}
